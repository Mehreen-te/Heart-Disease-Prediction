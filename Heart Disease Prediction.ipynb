{
 "cells": [
  {
   "cell_type": "markdown",
   "id": "26881497",
   "metadata": {},
   "source": [
    "## Prediction of Heart Disease"
   ]
  },
  {
   "cell_type": "markdown",
   "id": "3b0b6376",
   "metadata": {},
   "source": [
    "**Dataset source:** https://archive.ics.uci.edu/ml/datasets/heart+disease"
   ]
  },
  {
   "cell_type": "markdown",
   "id": "67df628e",
   "metadata": {},
   "source": [
    "### Importing required libraries"
   ]
  },
  {
   "cell_type": "code",
   "execution_count": 1,
   "id": "4b5797ce",
   "metadata": {},
   "outputs": [],
   "source": [
    "import pandas as pd\n",
    "import numpy as np\n",
    "import matplotlib.pyplot as plt\n",
    "import seaborn as sns\n",
    "\n",
    "from sklearn.model_selection import train_test_split\n",
    "from sklearn.linear_model import LogisticRegression\n",
    "from sklearn.tree import DecisionTreeClassifier, plot_tree \n",
    "from sklearn.ensemble import RandomForestClassifier\n",
    "\n",
    "from sklearn.metrics import accuracy_score, classification_report, confusion_matrix\n",
    "from sklearn.metrics import roc_curve, roc_auc_score, precision_score, recall_score, f1_score\n",
    "from sklearn.metrics import plot_confusion_matrix\n",
    "\n",
    "pd.options.display.max_columns = 100\n",
    "pd.options.display.max_rows = 100\n",
    "\n",
    "import warnings\n",
    "warnings.filterwarnings('ignore')"
   ]
  },
  {
   "cell_type": "markdown",
   "id": "6e6ebec1",
   "metadata": {},
   "source": [
    "### Reading the dataset"
   ]
  },
  {
   "cell_type": "code",
   "execution_count": 2,
   "id": "1d036859",
   "metadata": {},
   "outputs": [
    {
     "data": {
      "text/html": [
       "<div>\n",
       "<style scoped>\n",
       "    .dataframe tbody tr th:only-of-type {\n",
       "        vertical-align: middle;\n",
       "    }\n",
       "\n",
       "    .dataframe tbody tr th {\n",
       "        vertical-align: top;\n",
       "    }\n",
       "\n",
       "    .dataframe thead th {\n",
       "        text-align: right;\n",
       "    }\n",
       "</style>\n",
       "<table border=\"1\" class=\"dataframe\">\n",
       "  <thead>\n",
       "    <tr style=\"text-align: right;\">\n",
       "      <th></th>\n",
       "      <th>0</th>\n",
       "      <th>1</th>\n",
       "      <th>2</th>\n",
       "      <th>3</th>\n",
       "      <th>4</th>\n",
       "      <th>5</th>\n",
       "      <th>6</th>\n",
       "      <th>7</th>\n",
       "      <th>8</th>\n",
       "      <th>9</th>\n",
       "      <th>10</th>\n",
       "      <th>11</th>\n",
       "      <th>12</th>\n",
       "      <th>13</th>\n",
       "    </tr>\n",
       "  </thead>\n",
       "  <tbody>\n",
       "    <tr>\n",
       "      <th>0</th>\n",
       "      <td>63.0</td>\n",
       "      <td>1.0</td>\n",
       "      <td>1.0</td>\n",
       "      <td>145.0</td>\n",
       "      <td>233.0</td>\n",
       "      <td>1.0</td>\n",
       "      <td>2.0</td>\n",
       "      <td>150.0</td>\n",
       "      <td>0.0</td>\n",
       "      <td>2.3</td>\n",
       "      <td>3.0</td>\n",
       "      <td>0.0</td>\n",
       "      <td>6.0</td>\n",
       "      <td>0</td>\n",
       "    </tr>\n",
       "    <tr>\n",
       "      <th>1</th>\n",
       "      <td>67.0</td>\n",
       "      <td>1.0</td>\n",
       "      <td>4.0</td>\n",
       "      <td>160.0</td>\n",
       "      <td>286.0</td>\n",
       "      <td>0.0</td>\n",
       "      <td>2.0</td>\n",
       "      <td>108.0</td>\n",
       "      <td>1.0</td>\n",
       "      <td>1.5</td>\n",
       "      <td>2.0</td>\n",
       "      <td>3.0</td>\n",
       "      <td>3.0</td>\n",
       "      <td>2</td>\n",
       "    </tr>\n",
       "    <tr>\n",
       "      <th>2</th>\n",
       "      <td>67.0</td>\n",
       "      <td>1.0</td>\n",
       "      <td>4.0</td>\n",
       "      <td>120.0</td>\n",
       "      <td>229.0</td>\n",
       "      <td>0.0</td>\n",
       "      <td>2.0</td>\n",
       "      <td>129.0</td>\n",
       "      <td>1.0</td>\n",
       "      <td>2.6</td>\n",
       "      <td>2.0</td>\n",
       "      <td>2.0</td>\n",
       "      <td>7.0</td>\n",
       "      <td>1</td>\n",
       "    </tr>\n",
       "    <tr>\n",
       "      <th>3</th>\n",
       "      <td>37.0</td>\n",
       "      <td>1.0</td>\n",
       "      <td>3.0</td>\n",
       "      <td>130.0</td>\n",
       "      <td>250.0</td>\n",
       "      <td>0.0</td>\n",
       "      <td>0.0</td>\n",
       "      <td>187.0</td>\n",
       "      <td>0.0</td>\n",
       "      <td>3.5</td>\n",
       "      <td>3.0</td>\n",
       "      <td>0.0</td>\n",
       "      <td>3.0</td>\n",
       "      <td>0</td>\n",
       "    </tr>\n",
       "    <tr>\n",
       "      <th>4</th>\n",
       "      <td>41.0</td>\n",
       "      <td>0.0</td>\n",
       "      <td>2.0</td>\n",
       "      <td>130.0</td>\n",
       "      <td>204.0</td>\n",
       "      <td>0.0</td>\n",
       "      <td>2.0</td>\n",
       "      <td>172.0</td>\n",
       "      <td>0.0</td>\n",
       "      <td>1.4</td>\n",
       "      <td>1.0</td>\n",
       "      <td>0.0</td>\n",
       "      <td>3.0</td>\n",
       "      <td>0</td>\n",
       "    </tr>\n",
       "  </tbody>\n",
       "</table>\n",
       "</div>"
      ],
      "text/plain": [
       "     0    1    2      3      4    5    6      7    8    9    10   11   12  13\n",
       "0  63.0  1.0  1.0  145.0  233.0  1.0  2.0  150.0  0.0  2.3  3.0  0.0  6.0   0\n",
       "1  67.0  1.0  4.0  160.0  286.0  0.0  2.0  108.0  1.0  1.5  2.0  3.0  3.0   2\n",
       "2  67.0  1.0  4.0  120.0  229.0  0.0  2.0  129.0  1.0  2.6  2.0  2.0  7.0   1\n",
       "3  37.0  1.0  3.0  130.0  250.0  0.0  0.0  187.0  0.0  3.5  3.0  0.0  3.0   0\n",
       "4  41.0  0.0  2.0  130.0  204.0  0.0  2.0  172.0  0.0  1.4  1.0  0.0  3.0   0"
      ]
     },
     "metadata": {},
     "output_type": "display_data"
    },
    {
     "name": "stdout",
     "output_type": "stream",
     "text": [
      "Dataframe Shape: (303, 14)\n"
     ]
    }
   ],
   "source": [
    "df = pd.read_csv('processed.cleveland.data', header = None, na_values = '?')\n",
    "display(df.head(5))\n",
    "print(\"Dataframe Shape:\",df.shape)"
   ]
  },
  {
   "cell_type": "markdown",
   "id": "bb8a972b",
   "metadata": {},
   "source": [
    "### Naming the columns"
   ]
  },
  {
   "cell_type": "code",
   "execution_count": 3,
   "id": "8381a999",
   "metadata": {},
   "outputs": [
    {
     "data": {
      "text/html": [
       "<div>\n",
       "<style scoped>\n",
       "    .dataframe tbody tr th:only-of-type {\n",
       "        vertical-align: middle;\n",
       "    }\n",
       "\n",
       "    .dataframe tbody tr th {\n",
       "        vertical-align: top;\n",
       "    }\n",
       "\n",
       "    .dataframe thead th {\n",
       "        text-align: right;\n",
       "    }\n",
       "</style>\n",
       "<table border=\"1\" class=\"dataframe\">\n",
       "  <thead>\n",
       "    <tr style=\"text-align: right;\">\n",
       "      <th></th>\n",
       "      <th>age</th>\n",
       "      <th>sex</th>\n",
       "      <th>cp</th>\n",
       "      <th>trestbps</th>\n",
       "      <th>chol</th>\n",
       "      <th>fbs</th>\n",
       "      <th>restecg</th>\n",
       "      <th>thalach</th>\n",
       "      <th>exang</th>\n",
       "      <th>oldpeak</th>\n",
       "      <th>slope</th>\n",
       "      <th>ca</th>\n",
       "      <th>thal</th>\n",
       "      <th>hd</th>\n",
       "    </tr>\n",
       "  </thead>\n",
       "  <tbody>\n",
       "    <tr>\n",
       "      <th>75</th>\n",
       "      <td>65.0</td>\n",
       "      <td>0.0</td>\n",
       "      <td>3.0</td>\n",
       "      <td>160.0</td>\n",
       "      <td>360.0</td>\n",
       "      <td>0.0</td>\n",
       "      <td>2.0</td>\n",
       "      <td>151.0</td>\n",
       "      <td>0.0</td>\n",
       "      <td>0.8</td>\n",
       "      <td>1.0</td>\n",
       "      <td>0.0</td>\n",
       "      <td>3.0</td>\n",
       "      <td>0</td>\n",
       "    </tr>\n",
       "    <tr>\n",
       "      <th>208</th>\n",
       "      <td>55.0</td>\n",
       "      <td>1.0</td>\n",
       "      <td>2.0</td>\n",
       "      <td>130.0</td>\n",
       "      <td>262.0</td>\n",
       "      <td>0.0</td>\n",
       "      <td>0.0</td>\n",
       "      <td>155.0</td>\n",
       "      <td>0.0</td>\n",
       "      <td>0.0</td>\n",
       "      <td>1.0</td>\n",
       "      <td>0.0</td>\n",
       "      <td>3.0</td>\n",
       "      <td>0</td>\n",
       "    </tr>\n",
       "    <tr>\n",
       "      <th>235</th>\n",
       "      <td>54.0</td>\n",
       "      <td>1.0</td>\n",
       "      <td>4.0</td>\n",
       "      <td>122.0</td>\n",
       "      <td>286.0</td>\n",
       "      <td>0.0</td>\n",
       "      <td>2.0</td>\n",
       "      <td>116.0</td>\n",
       "      <td>1.0</td>\n",
       "      <td>3.2</td>\n",
       "      <td>2.0</td>\n",
       "      <td>2.0</td>\n",
       "      <td>3.0</td>\n",
       "      <td>3</td>\n",
       "    </tr>\n",
       "    <tr>\n",
       "      <th>89</th>\n",
       "      <td>51.0</td>\n",
       "      <td>0.0</td>\n",
       "      <td>3.0</td>\n",
       "      <td>130.0</td>\n",
       "      <td>256.0</td>\n",
       "      <td>0.0</td>\n",
       "      <td>2.0</td>\n",
       "      <td>149.0</td>\n",
       "      <td>0.0</td>\n",
       "      <td>0.5</td>\n",
       "      <td>1.0</td>\n",
       "      <td>0.0</td>\n",
       "      <td>3.0</td>\n",
       "      <td>0</td>\n",
       "    </tr>\n",
       "    <tr>\n",
       "      <th>179</th>\n",
       "      <td>53.0</td>\n",
       "      <td>1.0</td>\n",
       "      <td>3.0</td>\n",
       "      <td>130.0</td>\n",
       "      <td>246.0</td>\n",
       "      <td>1.0</td>\n",
       "      <td>2.0</td>\n",
       "      <td>173.0</td>\n",
       "      <td>0.0</td>\n",
       "      <td>0.0</td>\n",
       "      <td>1.0</td>\n",
       "      <td>3.0</td>\n",
       "      <td>3.0</td>\n",
       "      <td>0</td>\n",
       "    </tr>\n",
       "  </tbody>\n",
       "</table>\n",
       "</div>"
      ],
      "text/plain": [
       "      age  sex   cp  trestbps   chol  fbs  restecg  thalach  exang  oldpeak  \\\n",
       "75   65.0  0.0  3.0     160.0  360.0  0.0      2.0    151.0    0.0      0.8   \n",
       "208  55.0  1.0  2.0     130.0  262.0  0.0      0.0    155.0    0.0      0.0   \n",
       "235  54.0  1.0  4.0     122.0  286.0  0.0      2.0    116.0    1.0      3.2   \n",
       "89   51.0  0.0  3.0     130.0  256.0  0.0      2.0    149.0    0.0      0.5   \n",
       "179  53.0  1.0  3.0     130.0  246.0  1.0      2.0    173.0    0.0      0.0   \n",
       "\n",
       "     slope   ca  thal  hd  \n",
       "75     1.0  0.0   3.0   0  \n",
       "208    1.0  0.0   3.0   0  \n",
       "235    2.0  2.0   3.0   3  \n",
       "89     1.0  0.0   3.0   0  \n",
       "179    1.0  3.0   3.0   0  "
      ]
     },
     "metadata": {},
     "output_type": "display_data"
    }
   ],
   "source": [
    "df.columns = ['age',     'sex',   'cp',      'trestbps', 'chol', 'fbs',  'restecg', \n",
    "              'thalach', 'exang', 'oldpeak', 'slope',    'ca',   'thal', 'hd']\n",
    "display(df.sample(5))"
   ]
  },
  {
   "cell_type": "markdown",
   "id": "14668fe9",
   "metadata": {},
   "source": [
    "### Column name description"
   ]
  },
  {
   "cell_type": "markdown",
   "id": "91c4407f",
   "metadata": {},
   "source": [
    "##### 14 columns/ features of the dataset: \n",
    "\n",
    "- **age:** age in years \n",
    "\n",
    "- **sex:** sex \n",
    "> 0 = female <br> 1 = male \n",
    "\n",
    "- **cp:** chest pain type <br>\n",
    "> 1 = typical angina<br> 2 = atypical angina<br> 3 = non-anginal pain<br> 4 = asymptomatic\n",
    "\n",
    "- **trestbps:** resting blood pressure (in mm Hg on admission to the hospital)\n",
    "- **chol:** serum cholestoral in mg/dl\n",
    "- **fbs:** (fasting blood sugar > 120 mg/dl) (1 = true; 0 = false)\n",
    "- **restecg:** resting electrocardiographic results\n",
    "> 0 = normal\n",
    "<br> 1 = having ST-T wave abnormality (T wave inversions and/or ST elevation or depression of > 0.05 mV)\n",
    "<br> 2 = showing probable or definite left ventricular hypertrophy by Estes' criteria\n",
    "\n",
    "- **thalach:** maximum heart rate achieved\n",
    "- **exang:** exercise induced angina (1 = yes; 0 = no)\n",
    "- **oldpeak:** ST depression induced by exercise relative to rest\n",
    "- **slope:** the slope of the peak exercise ST segment\n",
    "> <br>1 = upsloping\n",
    "<br>2 = flat\n",
    "<br>3 = downsloping\n",
    "\n",
    "- **ca:** number of major vessels (0-3) colored by flourosopy\n",
    "- **thal:** \n",
    "> 3 = normal; <br>6 = fixed defect; <br>7 = reversable defect\n",
    "- **hd:** heart disease "
   ]
  },
  {
   "cell_type": "markdown",
   "id": "5ea6a3b7",
   "metadata": {},
   "source": [
    "### Column variable's datatype"
   ]
  },
  {
   "cell_type": "code",
   "execution_count": 4,
   "id": "b3735801",
   "metadata": {},
   "outputs": [
    {
     "name": "stdout",
     "output_type": "stream",
     "text": [
      "<class 'pandas.core.frame.DataFrame'>\n",
      "RangeIndex: 303 entries, 0 to 302\n",
      "Data columns (total 14 columns):\n",
      " #   Column    Non-Null Count  Dtype  \n",
      "---  ------    --------------  -----  \n",
      " 0   age       303 non-null    float64\n",
      " 1   sex       303 non-null    float64\n",
      " 2   cp        303 non-null    float64\n",
      " 3   trestbps  303 non-null    float64\n",
      " 4   chol      303 non-null    float64\n",
      " 5   fbs       303 non-null    float64\n",
      " 6   restecg   303 non-null    float64\n",
      " 7   thalach   303 non-null    float64\n",
      " 8   exang     303 non-null    float64\n",
      " 9   oldpeak   303 non-null    float64\n",
      " 10  slope     303 non-null    float64\n",
      " 11  ca        299 non-null    float64\n",
      " 12  thal      301 non-null    float64\n",
      " 13  hd        303 non-null    int64  \n",
      "dtypes: float64(13), int64(1)\n",
      "memory usage: 33.3 KB\n"
     ]
    }
   ],
   "source": [
    "df.info()"
   ]
  },
  {
   "cell_type": "markdown",
   "id": "f230adc8",
   "metadata": {},
   "source": [
    "#### Observation\n",
    "- **4 missing** values in **ca** column\n",
    "- **2 missing** values in **thal** column"
   ]
  },
  {
   "cell_type": "markdown",
   "id": "745bd1de",
   "metadata": {},
   "source": [
    "### Dropping the rows with missing values"
   ]
  },
  {
   "cell_type": "code",
   "execution_count": 5,
   "id": "815f14a7",
   "metadata": {},
   "outputs": [
    {
     "name": "stdout",
     "output_type": "stream",
     "text": [
      "(297, 14)\n"
     ]
    }
   ],
   "source": [
    "df = df.dropna()\n",
    "print(df.shape)"
   ]
  },
  {
   "cell_type": "markdown",
   "id": "42d96d24",
   "metadata": {},
   "source": [
    "#### Unique values in 'hd' column"
   ]
  },
  {
   "cell_type": "code",
   "execution_count": 6,
   "id": "f012617b",
   "metadata": {},
   "outputs": [
    {
     "name": "stdout",
     "output_type": "stream",
     "text": [
      "0    160\n",
      "1     54\n",
      "2     35\n",
      "3     35\n",
      "4     13\n",
      "Name: hd, dtype: int64\n"
     ]
    }
   ],
   "source": [
    "print(df['hd'].value_counts())"
   ]
  },
  {
   "cell_type": "markdown",
   "id": "cefef754",
   "metadata": {},
   "source": [
    "#### Converting all values greater 1 to 1"
   ]
  },
  {
   "cell_type": "code",
   "execution_count": 7,
   "id": "a99d1999",
   "metadata": {},
   "outputs": [
    {
     "name": "stdout",
     "output_type": "stream",
     "text": [
      "0    160\n",
      "1    137\n",
      "Name: hd, dtype: int64\n"
     ]
    }
   ],
   "source": [
    "df[df['hd'] > 1] = 1\n",
    "print(df['hd'].value_counts())"
   ]
  },
  {
   "cell_type": "markdown",
   "id": "efc3f492",
   "metadata": {},
   "source": [
    "### Setting feature and target variables"
   ]
  },
  {
   "cell_type": "code",
   "execution_count": 8,
   "id": "3c5dc542",
   "metadata": {},
   "outputs": [
    {
     "name": "stdout",
     "output_type": "stream",
     "text": [
      "Features: (297, 13)\n",
      "Targets: (297, 1)\n"
     ]
    }
   ],
   "source": [
    "X = df.drop('hd', axis = 1)\n",
    "y = df[['hd']]\n",
    "\n",
    "print(\"Features:\" ,X.shape)\n",
    "print(\"Targets:\" ,y.shape)"
   ]
  },
  {
   "cell_type": "markdown",
   "id": "2c1df03f",
   "metadata": {},
   "source": [
    "### One-Hot Encoding"
   ]
  },
  {
   "cell_type": "code",
   "execution_count": 9,
   "id": "d8d04dab",
   "metadata": {},
   "outputs": [
    {
     "data": {
      "text/html": [
       "<div>\n",
       "<style scoped>\n",
       "    .dataframe tbody tr th:only-of-type {\n",
       "        vertical-align: middle;\n",
       "    }\n",
       "\n",
       "    .dataframe tbody tr th {\n",
       "        vertical-align: top;\n",
       "    }\n",
       "\n",
       "    .dataframe thead th {\n",
       "        text-align: right;\n",
       "    }\n",
       "</style>\n",
       "<table border=\"1\" class=\"dataframe\">\n",
       "  <thead>\n",
       "    <tr style=\"text-align: right;\">\n",
       "      <th></th>\n",
       "      <th>age</th>\n",
       "      <th>sex</th>\n",
       "      <th>trestbps</th>\n",
       "      <th>chol</th>\n",
       "      <th>fbs</th>\n",
       "      <th>thalach</th>\n",
       "      <th>exang</th>\n",
       "      <th>oldpeak</th>\n",
       "      <th>ca</th>\n",
       "      <th>cp_2.0</th>\n",
       "      <th>cp_3.0</th>\n",
       "      <th>cp_4.0</th>\n",
       "      <th>restecg_1.0</th>\n",
       "      <th>restecg_2.0</th>\n",
       "      <th>slope_2.0</th>\n",
       "      <th>slope_3.0</th>\n",
       "      <th>thal_3.0</th>\n",
       "      <th>thal_6.0</th>\n",
       "      <th>thal_7.0</th>\n",
       "    </tr>\n",
       "  </thead>\n",
       "  <tbody>\n",
       "    <tr>\n",
       "      <th>0</th>\n",
       "      <td>63.0</td>\n",
       "      <td>1.0</td>\n",
       "      <td>145.0</td>\n",
       "      <td>233.0</td>\n",
       "      <td>1.0</td>\n",
       "      <td>150.0</td>\n",
       "      <td>0.0</td>\n",
       "      <td>2.3</td>\n",
       "      <td>0.0</td>\n",
       "      <td>0</td>\n",
       "      <td>0</td>\n",
       "      <td>0</td>\n",
       "      <td>0</td>\n",
       "      <td>1</td>\n",
       "      <td>0</td>\n",
       "      <td>1</td>\n",
       "      <td>0</td>\n",
       "      <td>1</td>\n",
       "      <td>0</td>\n",
       "    </tr>\n",
       "    <tr>\n",
       "      <th>1</th>\n",
       "      <td>1.0</td>\n",
       "      <td>1.0</td>\n",
       "      <td>1.0</td>\n",
       "      <td>1.0</td>\n",
       "      <td>1.0</td>\n",
       "      <td>1.0</td>\n",
       "      <td>1.0</td>\n",
       "      <td>1.0</td>\n",
       "      <td>1.0</td>\n",
       "      <td>0</td>\n",
       "      <td>0</td>\n",
       "      <td>0</td>\n",
       "      <td>1</td>\n",
       "      <td>0</td>\n",
       "      <td>0</td>\n",
       "      <td>0</td>\n",
       "      <td>0</td>\n",
       "      <td>0</td>\n",
       "      <td>0</td>\n",
       "    </tr>\n",
       "    <tr>\n",
       "      <th>2</th>\n",
       "      <td>67.0</td>\n",
       "      <td>1.0</td>\n",
       "      <td>120.0</td>\n",
       "      <td>229.0</td>\n",
       "      <td>0.0</td>\n",
       "      <td>129.0</td>\n",
       "      <td>1.0</td>\n",
       "      <td>2.6</td>\n",
       "      <td>2.0</td>\n",
       "      <td>0</td>\n",
       "      <td>0</td>\n",
       "      <td>1</td>\n",
       "      <td>0</td>\n",
       "      <td>1</td>\n",
       "      <td>1</td>\n",
       "      <td>0</td>\n",
       "      <td>0</td>\n",
       "      <td>0</td>\n",
       "      <td>1</td>\n",
       "    </tr>\n",
       "    <tr>\n",
       "      <th>3</th>\n",
       "      <td>37.0</td>\n",
       "      <td>1.0</td>\n",
       "      <td>130.0</td>\n",
       "      <td>250.0</td>\n",
       "      <td>0.0</td>\n",
       "      <td>187.0</td>\n",
       "      <td>0.0</td>\n",
       "      <td>3.5</td>\n",
       "      <td>0.0</td>\n",
       "      <td>0</td>\n",
       "      <td>1</td>\n",
       "      <td>0</td>\n",
       "      <td>0</td>\n",
       "      <td>0</td>\n",
       "      <td>0</td>\n",
       "      <td>1</td>\n",
       "      <td>1</td>\n",
       "      <td>0</td>\n",
       "      <td>0</td>\n",
       "    </tr>\n",
       "    <tr>\n",
       "      <th>4</th>\n",
       "      <td>41.0</td>\n",
       "      <td>0.0</td>\n",
       "      <td>130.0</td>\n",
       "      <td>204.0</td>\n",
       "      <td>0.0</td>\n",
       "      <td>172.0</td>\n",
       "      <td>0.0</td>\n",
       "      <td>1.4</td>\n",
       "      <td>0.0</td>\n",
       "      <td>1</td>\n",
       "      <td>0</td>\n",
       "      <td>0</td>\n",
       "      <td>0</td>\n",
       "      <td>1</td>\n",
       "      <td>0</td>\n",
       "      <td>0</td>\n",
       "      <td>1</td>\n",
       "      <td>0</td>\n",
       "      <td>0</td>\n",
       "    </tr>\n",
       "  </tbody>\n",
       "</table>\n",
       "</div>"
      ],
      "text/plain": [
       "    age  sex  trestbps   chol  fbs  thalach  exang  oldpeak   ca  cp_2.0  \\\n",
       "0  63.0  1.0     145.0  233.0  1.0    150.0    0.0      2.3  0.0       0   \n",
       "1   1.0  1.0       1.0    1.0  1.0      1.0    1.0      1.0  1.0       0   \n",
       "2  67.0  1.0     120.0  229.0  0.0    129.0    1.0      2.6  2.0       0   \n",
       "3  37.0  1.0     130.0  250.0  0.0    187.0    0.0      3.5  0.0       0   \n",
       "4  41.0  0.0     130.0  204.0  0.0    172.0    0.0      1.4  0.0       1   \n",
       "\n",
       "   cp_3.0  cp_4.0  restecg_1.0  restecg_2.0  slope_2.0  slope_3.0  thal_3.0  \\\n",
       "0       0       0            0            1          0          1         0   \n",
       "1       0       0            1            0          0          0         0   \n",
       "2       0       1            0            1          1          0         0   \n",
       "3       1       0            0            0          0          1         1   \n",
       "4       0       0            0            1          0          0         1   \n",
       "\n",
       "   thal_6.0  thal_7.0  \n",
       "0         1         0  \n",
       "1         0         0  \n",
       "2         0         1  \n",
       "3         0         0  \n",
       "4         0         0  "
      ]
     },
     "metadata": {},
     "output_type": "display_data"
    },
    {
     "name": "stdout",
     "output_type": "stream",
     "text": [
      "(297, 19)\n"
     ]
    }
   ],
   "source": [
    "X = pd.get_dummies(X, columns = ['cp', 'restecg', 'slope', 'thal'], drop_first = True)\n",
    "\n",
    "display(X.head(5))\n",
    "print(X.shape)"
   ]
  },
  {
   "cell_type": "markdown",
   "id": "0798a2f6",
   "metadata": {},
   "source": [
    "### Splitting train and test dataset"
   ]
  },
  {
   "cell_type": "code",
   "execution_count": 10,
   "id": "b22e62cc",
   "metadata": {},
   "outputs": [
    {
     "name": "stdout",
     "output_type": "stream",
     "text": [
      "(237, 19) (60, 19) (237, 1) (60, 1)\n"
     ]
    }
   ],
   "source": [
    "X_train, X_test, y_train, y_test = train_test_split(X, \n",
    "                                                    y, \n",
    "                                                    train_size = 0.8, \n",
    "                                                    random_state = 42, \n",
    "                                                    stratify = y)\n",
    "\n",
    "print(X_train.shape, X_test.shape, y_train.shape, y_test.shape)"
   ]
  },
  {
   "cell_type": "markdown",
   "id": "5ff86ca3",
   "metadata": {},
   "source": [
    "### Checking stratification\n",
    "##### Function to check ratio`"
   ]
  },
  {
   "cell_type": "code",
   "execution_count": 11,
   "id": "9bb0e45b",
   "metadata": {},
   "outputs": [],
   "source": [
    "def Ratio(a,b):\n",
    "    class_0 = a['hd'].value_counts().values[0]\n",
    "    class_1 = a['hd'].value_counts().values[1]\n",
    "\n",
    "    ratio = class_1/class_0\n",
    "    print(b,\"Ratio: \",ratio)"
   ]
  },
  {
   "cell_type": "markdown",
   "id": "80bcadad",
   "metadata": {},
   "source": [
    "##### Ratio:"
   ]
  },
  {
   "cell_type": "code",
   "execution_count": 12,
   "id": "f7924d8d",
   "metadata": {},
   "outputs": [
    {
     "name": "stdout",
     "output_type": "stream",
     "text": [
      "Training Ratio:  0.8515625\n",
      "Test Ratio:  0.875\n"
     ]
    }
   ],
   "source": [
    "Ratio(y_train,\"Training\")\n",
    "Ratio(y_test,\"Test\")\n"
   ]
  },
  {
   "cell_type": "markdown",
   "id": "54663cad",
   "metadata": {},
   "source": [
    "### Instantiating and fitting the model with Decision Tree Classifier"
   ]
  },
  {
   "cell_type": "code",
   "execution_count": 13,
   "id": "d88cc81d",
   "metadata": {},
   "outputs": [],
   "source": [
    "tree_model = DecisionTreeClassifier(random_state = 42)\n",
    "tree_model = tree_model.fit(X_train, y_train)"
   ]
  },
  {
   "cell_type": "code",
   "execution_count": 14,
   "id": "976ffa87",
   "metadata": {},
   "outputs": [],
   "source": [
    "y_pred = tree_model.predict(X_test)"
   ]
  },
  {
   "cell_type": "markdown",
   "id": "12683458",
   "metadata": {},
   "source": [
    "#### Comparison of predicted and actual data"
   ]
  },
  {
   "cell_type": "code",
   "execution_count": 15,
   "id": "261923c3",
   "metadata": {},
   "outputs": [
    {
     "data": {
      "text/html": [
       "<div>\n",
       "<style scoped>\n",
       "    .dataframe tbody tr th:only-of-type {\n",
       "        vertical-align: middle;\n",
       "    }\n",
       "\n",
       "    .dataframe tbody tr th {\n",
       "        vertical-align: top;\n",
       "    }\n",
       "\n",
       "    .dataframe thead th {\n",
       "        text-align: right;\n",
       "    }\n",
       "</style>\n",
       "<table border=\"1\" class=\"dataframe\">\n",
       "  <thead>\n",
       "    <tr style=\"text-align: right;\">\n",
       "      <th></th>\n",
       "      <th>hd</th>\n",
       "      <th>probability</th>\n",
       "      <th>predicted_hd</th>\n",
       "    </tr>\n",
       "  </thead>\n",
       "  <tbody>\n",
       "    <tr>\n",
       "      <th>200</th>\n",
       "      <td>0</td>\n",
       "      <td>1.0</td>\n",
       "      <td>1</td>\n",
       "    </tr>\n",
       "    <tr>\n",
       "      <th>295</th>\n",
       "      <td>0</td>\n",
       "      <td>0.0</td>\n",
       "      <td>0</td>\n",
       "    </tr>\n",
       "    <tr>\n",
       "      <th>172</th>\n",
       "      <td>1</td>\n",
       "      <td>1.0</td>\n",
       "      <td>1</td>\n",
       "    </tr>\n",
       "    <tr>\n",
       "      <th>90</th>\n",
       "      <td>0</td>\n",
       "      <td>0.0</td>\n",
       "      <td>0</td>\n",
       "    </tr>\n",
       "    <tr>\n",
       "      <th>195</th>\n",
       "      <td>1</td>\n",
       "      <td>1.0</td>\n",
       "      <td>1</td>\n",
       "    </tr>\n",
       "  </tbody>\n",
       "</table>\n",
       "</div>"
      ],
      "text/plain": [
       "     hd  probability  predicted_hd\n",
       "200   0          1.0             1\n",
       "295   0          0.0             0\n",
       "172   1          1.0             1\n",
       "90    0          0.0             0\n",
       "195   1          1.0             1"
      ]
     },
     "metadata": {},
     "output_type": "display_data"
    }
   ],
   "source": [
    "y_test['probability'] = np.round(tree_model.predict_proba(X_test)[:,1], 2)\n",
    "y_test['predicted_hd'] = y_pred\n",
    "\n",
    "display(y_test.sample(5))"
   ]
  },
  {
   "cell_type": "markdown",
   "id": "76199f92",
   "metadata": {},
   "source": [
    "### Decision Tree Diagram"
   ]
  },
  {
   "cell_type": "code",
   "execution_count": 16,
   "id": "bca80fbc",
   "metadata": {},
   "outputs": [
    {
     "data": {
      "image/png": "[encoded data removed]",
      "text/plain": [
       "<Figure size 1800x1440 with 1 Axes>"
      ]
     },
     "metadata": {
      "needs_background": "light"
     },
     "output_type": "display_data"
    }
   ],
   "source": [
    "plt.figure(figsize = (25, 20))\n",
    "plot_tree(tree_model, \n",
    "          filled = True,\n",
    "          rounded = True,\n",
    "          class_names = [\"No Heart Disease\", \"Heart Disease\"],\n",
    "          feature_names = X.columns,\n",
    "          max_depth = 2, \n",
    "          fontsize = 20)\n",
    "\n",
    "plt.show()"
   ]
  },
  {
   "cell_type": "markdown",
   "id": "374b612a",
   "metadata": {},
   "source": [
    "### Confusion matrix"
   ]
  },
  {
   "cell_type": "code",
   "execution_count": 17,
   "id": "9a3cbd1d",
   "metadata": {},
   "outputs": [
    {
     "name": "stdout",
     "output_type": "stream",
     "text": [
      "confusion_matrix: \n",
      "\n",
      " [[26  6]\n",
      " [ 5 23]]\n"
     ]
    }
   ],
   "source": [
    "confusion__matrix = confusion_matrix(y_test['hd'], \n",
    "                                     y_test['predicted_hd'])\n",
    "\n",
    "print('confusion_matrix: \\n\\n', confusion__matrix)"
   ]
  },
  {
   "cell_type": "markdown",
   "id": "c06b0fcd",
   "metadata": {},
   "source": [
    "### Visualizing Confusion matrix"
   ]
  },
  {
   "cell_type": "code",
   "execution_count": 18,
   "id": "3f93d92a",
   "metadata": {},
   "outputs": [
    {
     "data": {
      "image/png": "[encoded data removed]",
      "text/plain": [
       "<Figure size 432x288 with 2 Axes>"
      ]
     },
     "metadata": {
      "needs_background": "light"
     },
     "output_type": "display_data"
    }
   ],
   "source": [
    "plot_confusion_matrix(tree_model, X_test, y_test['hd'], \n",
    "                      display_labels=[\"No Hd\", \"Hd\"],\n",
    "                      cmap='BuPu')\n",
    "plt.show()"
   ]
  },
  {
   "cell_type": "markdown",
   "id": "88c3a1fd",
   "metadata": {},
   "source": [
    "#### Observation\n",
    "- Out of 28 people **with heart disease**, 23 cases were **correctly predicted**, which is **82.14%**\n",
    "- While 26 people who **idnt have heart disease** were **correctly predicted**, out of 32 people. That is **81.25%**"
   ]
  },
  {
   "cell_type": "code",
   "execution_count": 19,
   "id": "8a42be79",
   "metadata": {},
   "outputs": [
    {
     "data": {
      "text/plain": [
       "0    32\n",
       "1    28\n",
       "Name: hd, dtype: int64"
      ]
     },
     "execution_count": 19,
     "metadata": {},
     "output_type": "execute_result"
    }
   ],
   "source": [
    "y_test['hd'].value_counts()"
   ]
  },
  {
   "cell_type": "code",
   "execution_count": 20,
   "id": "c51111c5",
   "metadata": {},
   "outputs": [
    {
     "name": "stdout",
     "output_type": "stream",
     "text": [
      "True Positives:  23\n",
      "True Negatives:  26\n",
      "False Positives:  6\n",
      "False Negatives:  5\n"
     ]
    }
   ],
   "source": [
    "TP = confusion__matrix[1,1]\n",
    "print(\"True Positives: \", TP)\n",
    "\n",
    "TN = confusion__matrix[0,0]\n",
    "print(\"True Negatives: \", TN)\n",
    "\n",
    "FP = confusion__matrix[0,1]\n",
    "print(\"False Positives: \", FP)\n",
    "\n",
    "FN = confusion__matrix[1,0]\n",
    "print(\"False Negatives: \", FN)"
   ]
  },
  {
   "cell_type": "markdown",
   "id": "0e5102f2",
   "metadata": {},
   "source": [
    "#### Observation\n",
    "- Higher value of true positives and true negatives are desired.\n",
    "- False negatives and false positives should be lower."
   ]
  },
  {
   "cell_type": "code",
   "execution_count": 21,
   "id": "eeebd8a3",
   "metadata": {},
   "outputs": [
    {
     "name": "stdout",
     "output_type": "stream",
     "text": [
      "Accuracy of the model = 81.67 %\n"
     ]
    }
   ],
   "source": [
    "accuracy = accuracy_score(y_test['hd'], y_test['predicted_hd'])\n",
    "\n",
    "print('Accuracy of the model =',np.round(accuracy*100,2), '%') "
   ]
  },
  {
   "cell_type": "markdown",
   "id": "7ac7e5b4",
   "metadata": {},
   "source": [
    "#### Classification metrices calculation"
   ]
  },
  {
   "cell_type": "code",
   "execution_count": 22,
   "id": "2244fbf2",
   "metadata": {},
   "outputs": [],
   "source": [
    "def measure(m):\n",
    "    m = m(y_test['hd'], y_test['predicted_hd'])\n",
    "    return np.round(m*100,2)"
   ]
  },
  {
   "cell_type": "code",
   "execution_count": 23,
   "id": "3910e5a6",
   "metadata": {},
   "outputs": [
    {
     "name": "stdout",
     "output_type": "stream",
     "text": [
      "precision_score:  79.31 %\n",
      "recall_score:  82.14 %\n",
      "f1_score:  80.7 %\n"
     ]
    }
   ],
   "source": [
    "print(\"precision_score: \", measure(precision_score), \"%\")\n",
    "print(\"recall_score: \", measure(recall_score), \"%\")\n",
    "print(\"f1_score: \", measure(f1_score), \"%\")"
   ]
  },
  {
   "cell_type": "markdown",
   "id": "91614ad9",
   "metadata": {},
   "source": [
    "- **Precision:**\n",
    "Precision is the ratio of true positives to the sum of true and false positives.<br>\n",
    "- **Recall:**\n",
    "Recall is the ratio of true positives to the sum of true positives and false negatives. <br>\n",
    "- **F1 score:**\n",
    "The F1 score is a weighted harmonic mean of precision and recall (varies between 0 to 1).<br>\n",
    "- **Support:**\n",
    "Support is the number of actual occurrences of the class in the specified dataset."
   ]
  },
  {
   "cell_type": "markdown",
   "id": "ebcd94cd",
   "metadata": {},
   "source": [
    "#### Classification report"
   ]
  },
  {
   "cell_type": "code",
   "execution_count": 24,
   "id": "49198588",
   "metadata": {},
   "outputs": [
    {
     "name": "stdout",
     "output_type": "stream",
     "text": [
      "Classification Report: \n",
      "               precision    recall  f1-score   support\n",
      "\n",
      "           0       0.84      0.81      0.83        32\n",
      "           1       0.79      0.82      0.81        28\n",
      "\n",
      "    accuracy                           0.82        60\n",
      "   macro avg       0.82      0.82      0.82        60\n",
      "weighted avg       0.82      0.82      0.82        60\n",
      "\n"
     ]
    }
   ],
   "source": [
    "class_report = classification_report(y_test['hd'], y_pred)\n",
    "print(\"Classification Report: \\n\", class_report)"
   ]
  },
  {
   "cell_type": "markdown",
   "id": "fef29600",
   "metadata": {},
   "source": [
    "- *Classification report gives the summary layout of the classification metrices*\n",
    "> The model accuracy is approximately 82%.<br> The precision, recall and f1 scores are around 80%, which is good. But the model sill requires \n",
    "improvement"
   ]
  },
  {
   "cell_type": "markdown",
   "id": "ff3fa71a",
   "metadata": {},
   "source": [
    "### Receiver Operating Characterisitcs (ROC) and Area Under the Curve (AUC)"
   ]
  },
  {
   "cell_type": "code",
   "execution_count": 25,
   "id": "b3bb8853",
   "metadata": {},
   "outputs": [
    {
     "data": {
      "image/png": "[encoded data removed]",
      "text/plain": [
       "<Figure size 1008x576 with 1 Axes>"
      ]
     },
     "metadata": {
      "needs_background": "light"
     },
     "output_type": "display_data"
    }
   ],
   "source": [
    "fpr, tpr, thr = roc_curve(y_test['hd'], y_test['predicted_hd'])\n",
    "auc = np.round(roc_auc_score(y_test['hd'], y_test['predicted_hd']), 2)\n",
    "\n",
    "plt.figure(figsize = (14, 8))\n",
    "plt.plot(fpr, tpr, \n",
    "         color = 'purple', lw = 3, \n",
    "         label = \"Curve Area = \" + str(auc))\n",
    "\n",
    "plt.title('ROC curve')\n",
    "plt.plot([0, 1], [0, 1], color = 'lightblue', lw = 3, linestyle = ':')\n",
    "plt.xlabel('False Positive Rate')\n",
    "plt.ylabel('True Positive Rate')\n",
    "plt.legend(loc=\"lower right\")\n",
    "\n",
    "plt.show()"
   ]
  },
  {
   "cell_type": "markdown",
   "id": "d405bb3b",
   "metadata": {},
   "source": [
    "#### Observation\n",
    "- The AUC is the measure of the ability of a classifier to distinguish between classes.\n",
    "- The higher the AUC, the better the performance of the model at distinguishing between the positive and negative classes.\n",
    "- Here the AUC is .82, which is acceptable but requires improvement."
   ]
  },
  {
   "cell_type": "markdown",
   "id": "c230c39b",
   "metadata": {},
   "source": [
    "### Outcome:\n",
    "**Accuracy, AUC, Classification metrices are all around 80%. The model is needed to be and can be improved.**"
   ]
  }
 ],
 "metadata": {
  "kernelspec": {
   "display_name": "Python 3",
   "language": "python",
   "name": "python3"
  },
  "language_info": {
   "codemirror_mode": {
    "name": "ipython",
    "version": 3
   },
   "file_extension": ".py",
   "mimetype": "text/x-python",
   "name": "python",
   "nbconvert_exporter": "python",
   "pygments_lexer": "ipython3",
   "version": "3.8.8"
  }
 },
 "nbformat": 4,
 "nbformat_minor": 5
}
